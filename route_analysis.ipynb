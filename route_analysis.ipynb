# notebooks/route_analysis.ipynb
import sys
sys.path.append("..")  # Dostęp do modułów src

from src.core.processor import RouteProcessor
import matplotlib.pyplot as plt

# Wczytaj dane
processor = RouteProcessor()
df = processor.merge_files()

# Analiza interaktywna
plt.figure(figsize=(10,5))
df.groupby('source_file')['altitude'].mean().plot(kind='bar')
plt.title('Średnia wysokość tras')
plt.ylabel('Metry n.p.m.')